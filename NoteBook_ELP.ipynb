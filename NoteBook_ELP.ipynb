{
 "cells": [
  {
   "attachments": {},
   "cell_type": "markdown",
   "metadata": {},
   "source": [
    "# Exploración"
   ]
  },
  {
   "cell_type": "code",
   "execution_count": 1,
   "metadata": {},
   "outputs": [],
   "source": [
    "import numpy as np\n",
    "import pandas as pd\n",
    "pd.set_option('display.max_columns', None)\n",
    "import re"
   ]
  },
  {
   "cell_type": "code",
   "execution_count": 2,
   "metadata": {},
   "outputs": [
    {
     "data": {
      "text/html": [
       "<div>\n",
       "<style scoped>\n",
       "    .dataframe tbody tr th:only-of-type {\n",
       "        vertical-align: middle;\n",
       "    }\n",
       "\n",
       "    .dataframe tbody tr th {\n",
       "        vertical-align: top;\n",
       "    }\n",
       "\n",
       "    .dataframe thead th {\n",
       "        text-align: right;\n",
       "    }\n",
       "</style>\n",
       "<table border=\"1\" class=\"dataframe\">\n",
       "  <thead>\n",
       "    <tr style=\"text-align: right;\">\n",
       "      <th></th>\n",
       "      <th>referencia</th>\n",
       "      <th>titulo_anuncio</th>\n",
       "      <th>estado_casa</th>\n",
       "      <th>ubicacion</th>\n",
       "      <th>año_construccion</th>\n",
       "      <th>nro_habitaciones</th>\n",
       "      <th>nro_baño</th>\n",
       "      <th>m2_terreno</th>\n",
       "      <th>nro_plantas</th>\n",
       "      <th>m2_edificados</th>\n",
       "      <th>nro_garajes</th>\n",
       "      <th>precio_venta</th>\n",
       "    </tr>\n",
       "  </thead>\n",
       "  <tbody>\n",
       "    <tr>\n",
       "      <th>0</th>\n",
       "      <td>E457CA</td>\n",
       "      <td>En venta casa de Lujo en Las Palmas</td>\n",
       "      <td>Excelente estado</td>\n",
       "      <td>Las Palmas, Las palmas, Santa Cruz</td>\n",
       "      <td>¡Preguntale!</td>\n",
       "      <td>4</td>\n",
       "      <td>3</td>\n",
       "      <td>600 m2</td>\n",
       "      <td>1</td>\n",
       "      <td>650 m2</td>\n",
       "      <td>2</td>\n",
       "      <td>U$S 850.000</td>\n",
       "    </tr>\n",
       "    <tr>\n",
       "      <th>1</th>\n",
       "      <td>Q67923</td>\n",
       "      <td>CASA EN VENTA EN LAS PALMAS</td>\n",
       "      <td>Excelente estado</td>\n",
       "      <td>ENTRE 3ER Y 4TO ANILLO C/ BAHIA CACERES Y CAPA...</td>\n",
       "      <td>¡Preguntale!</td>\n",
       "      <td>4</td>\n",
       "      <td>3</td>\n",
       "      <td>726 m2</td>\n",
       "      <td>1</td>\n",
       "      <td>¡Preguntale!</td>\n",
       "      <td>2</td>\n",
       "      <td>U$S 685.000</td>\n",
       "    </tr>\n",
       "    <tr>\n",
       "      <th>2</th>\n",
       "      <td>WC49A9</td>\n",
       "      <td>CASA EN VENTA, IRPAVI</td>\n",
       "      <td>Buen estado</td>\n",
       "      <td>CALLE 18 Y OVANDO, Irpavi, La Paz</td>\n",
       "      <td>¡Preguntale!</td>\n",
       "      <td>3</td>\n",
       "      <td>3</td>\n",
       "      <td>643 m2</td>\n",
       "      <td>1</td>\n",
       "      <td>643 m2</td>\n",
       "      <td>3</td>\n",
       "      <td>U$S 449.000</td>\n",
       "    </tr>\n",
       "    <tr>\n",
       "      <th>3</th>\n",
       "      <td>Z7FD7E</td>\n",
       "      <td>Casa en venta sobre Av. Canal Isuto</td>\n",
       "      <td>Excelente estado</td>\n",
       "      <td>sobre Av. Canal Isuto entre 4to y 5to anillo, ...</td>\n",
       "      <td>¡Preguntale!</td>\n",
       "      <td>5</td>\n",
       "      <td>2</td>\n",
       "      <td>194 m2</td>\n",
       "      <td>1</td>\n",
       "      <td>194 m2</td>\n",
       "      <td>¡Preguntale!</td>\n",
       "      <td>U$S 139.000</td>\n",
       "    </tr>\n",
       "    <tr>\n",
       "      <th>4</th>\n",
       "      <td>OF956B</td>\n",
       "      <td>casa a estrenar, 4 dormitorios, Condominio Los...</td>\n",
       "      <td>A estrenar</td>\n",
       "      <td>condominio Los parques 3, Urubó, Santa Cruz</td>\n",
       "      <td>¡Preguntale!</td>\n",
       "      <td>4</td>\n",
       "      <td>3</td>\n",
       "      <td>158 m2</td>\n",
       "      <td>2</td>\n",
       "      <td>158 m2</td>\n",
       "      <td>1</td>\n",
       "      <td>U$S 149.000</td>\n",
       "    </tr>\n",
       "    <tr>\n",
       "      <th>...</th>\n",
       "      <td>...</td>\n",
       "      <td>...</td>\n",
       "      <td>...</td>\n",
       "      <td>...</td>\n",
       "      <td>...</td>\n",
       "      <td>...</td>\n",
       "      <td>...</td>\n",
       "      <td>...</td>\n",
       "      <td>...</td>\n",
       "      <td>...</td>\n",
       "      <td>...</td>\n",
       "      <td>...</td>\n",
       "    </tr>\n",
       "    <tr>\n",
       "      <th>1044</th>\n",
       "      <td>1,70E+59</td>\n",
       "      <td>Urbanización San Jorge, haz tu reserva ya con ...</td>\n",
       "      <td>A estrenar</td>\n",
       "      <td>avenida G-77 y Beni a la altura del noveno ani...</td>\n",
       "      <td>2018</td>\n",
       "      <td>3</td>\n",
       "      <td>2</td>\n",
       "      <td>258 m2</td>\n",
       "      <td>1</td>\n",
       "      <td>110 m2</td>\n",
       "      <td>2</td>\n",
       "      <td>U$S 67.500</td>\n",
       "    </tr>\n",
       "    <tr>\n",
       "      <th>1045</th>\n",
       "      <td>50F5F</td>\n",
       "      <td>Casa No. 35 En Venta Condominio Dalí El Remans...</td>\n",
       "      <td>Buen estado</td>\n",
       "      <td>Ingreso por el Remanso . Condominio Los Pintor...</td>\n",
       "      <td>2012</td>\n",
       "      <td>3</td>\n",
       "      <td>3</td>\n",
       "      <td>250 m2</td>\n",
       "      <td>1</td>\n",
       "      <td>150 m2</td>\n",
       "      <td>2</td>\n",
       "      <td>U$S 115.000</td>\n",
       "    </tr>\n",
       "    <tr>\n",
       "      <th>1046</th>\n",
       "      <td>A69AD</td>\n",
       "      <td>Casa Condominio Dalí, 3 dorm.,a/c, área social...</td>\n",
       "      <td>Excelente estado</td>\n",
       "      <td>casa nro 35 Condominio Dalí. cel *** , Remanso...</td>\n",
       "      <td>2014</td>\n",
       "      <td>3</td>\n",
       "      <td>3</td>\n",
       "      <td>250 m2</td>\n",
       "      <td>1</td>\n",
       "      <td>150 m2</td>\n",
       "      <td>2</td>\n",
       "      <td>U$S 115.000</td>\n",
       "    </tr>\n",
       "    <tr>\n",
       "      <th>1047</th>\n",
       "      <td>7BC18</td>\n",
       "      <td>Casa equipada</td>\n",
       "      <td>Excelente estado</td>\n",
       "      <td>Sur, Santa Cruz</td>\n",
       "      <td>¡Preguntale!</td>\n",
       "      <td>4</td>\n",
       "      <td>3</td>\n",
       "      <td>300 m2</td>\n",
       "      <td>1</td>\n",
       "      <td>165 m2</td>\n",
       "      <td>¡Preguntale!</td>\n",
       "      <td>U$S 108.000</td>\n",
       "    </tr>\n",
       "    <tr>\n",
       "      <th>1048</th>\n",
       "      <td>cE423</td>\n",
       "      <td>Casa zona URUBO trejo 1.100 Mts2 135.000 $us.</td>\n",
       "      <td>Buen estado</td>\n",
       "      <td>Urubó, Santa Cruz</td>\n",
       "      <td>¡Preguntale!</td>\n",
       "      <td>3</td>\n",
       "      <td>2</td>\n",
       "      <td>1.100 m2</td>\n",
       "      <td>¡Preguntale!</td>\n",
       "      <td>300 m2</td>\n",
       "      <td>¡Preguntale!</td>\n",
       "      <td>U$S 135.000</td>\n",
       "    </tr>\n",
       "  </tbody>\n",
       "</table>\n",
       "<p>1049 rows × 12 columns</p>\n",
       "</div>"
      ],
      "text/plain": [
       "     referencia                                     titulo_anuncio  \\\n",
       "0        E457CA                En venta casa de Lujo en Las Palmas   \n",
       "1        Q67923                        CASA EN VENTA EN LAS PALMAS   \n",
       "2        WC49A9                              CASA EN VENTA, IRPAVI   \n",
       "3        Z7FD7E                Casa en venta sobre Av. Canal Isuto   \n",
       "4        OF956B  casa a estrenar, 4 dormitorios, Condominio Los...   \n",
       "...         ...                                                ...   \n",
       "1044   1,70E+59  Urbanización San Jorge, haz tu reserva ya con ...   \n",
       "1045      50F5F  Casa No. 35 En Venta Condominio Dalí El Remans...   \n",
       "1046      A69AD  Casa Condominio Dalí, 3 dorm.,a/c, área social...   \n",
       "1047      7BC18                                      Casa equipada   \n",
       "1048      cE423      Casa zona URUBO trejo 1.100 Mts2 135.000 $us.   \n",
       "\n",
       "           estado_casa                                          ubicacion  \\\n",
       "0     Excelente estado                 Las Palmas, Las palmas, Santa Cruz   \n",
       "1     Excelente estado  ENTRE 3ER Y 4TO ANILLO C/ BAHIA CACERES Y CAPA...   \n",
       "2          Buen estado                  CALLE 18 Y OVANDO, Irpavi, La Paz   \n",
       "3     Excelente estado  sobre Av. Canal Isuto entre 4to y 5to anillo, ...   \n",
       "4           A estrenar        condominio Los parques 3, Urubó, Santa Cruz   \n",
       "...                ...                                                ...   \n",
       "1044        A estrenar  avenida G-77 y Beni a la altura del noveno ani...   \n",
       "1045       Buen estado  Ingreso por el Remanso . Condominio Los Pintor...   \n",
       "1046  Excelente estado  casa nro 35 Condominio Dalí. cel *** , Remanso...   \n",
       "1047  Excelente estado                                    Sur, Santa Cruz   \n",
       "1048       Buen estado                                  Urubó, Santa Cruz   \n",
       "\n",
       "     año_construccion nro_habitaciones nro_baño m2_terreno   nro_plantas  \\\n",
       "0        ¡Preguntale!                4        3     600 m2             1   \n",
       "1        ¡Preguntale!                4        3     726 m2             1   \n",
       "2        ¡Preguntale!                3        3     643 m2             1   \n",
       "3        ¡Preguntale!                5        2     194 m2             1   \n",
       "4        ¡Preguntale!                4        3     158 m2             2   \n",
       "...               ...              ...      ...        ...           ...   \n",
       "1044             2018                3        2     258 m2             1   \n",
       "1045             2012                3        3     250 m2             1   \n",
       "1046             2014                3        3     250 m2             1   \n",
       "1047     ¡Preguntale!                4        3     300 m2             1   \n",
       "1048     ¡Preguntale!                3        2   1.100 m2  ¡Preguntale!   \n",
       "\n",
       "     m2_edificados   nro_garajes precio_venta  \n",
       "0           650 m2             2  U$S 850.000  \n",
       "1     ¡Preguntale!             2  U$S 685.000  \n",
       "2           643 m2             3  U$S 449.000  \n",
       "3           194 m2  ¡Preguntale!  U$S 139.000  \n",
       "4           158 m2             1  U$S 149.000  \n",
       "...            ...           ...          ...  \n",
       "1044        110 m2             2   U$S 67.500  \n",
       "1045        150 m2             2  U$S 115.000  \n",
       "1046        150 m2             2  U$S 115.000  \n",
       "1047        165 m2  ¡Preguntale!  U$S 108.000  \n",
       "1048        300 m2  ¡Preguntale!  U$S 135.000  \n",
       "\n",
       "[1049 rows x 12 columns]"
      ]
     },
     "execution_count": 2,
     "metadata": {},
     "output_type": "execute_result"
    }
   ],
   "source": [
    "data_brute = pd.read_csv(\"C:/Users/win10 uefi/Documents/Proyecto_PrediccionCasas/scraping_casas.csv\",sep=\";\")\n",
    "data_brute"
   ]
  },
  {
   "cell_type": "code",
   "execution_count": 3,
   "metadata": {},
   "outputs": [
    {
     "name": "stdout",
     "output_type": "stream",
     "text": [
      "<class 'pandas.core.frame.DataFrame'>\n",
      "RangeIndex: 1049 entries, 0 to 1048\n",
      "Data columns (total 12 columns):\n",
      " #   Column            Non-Null Count  Dtype \n",
      "---  ------            --------------  ----- \n",
      " 0   referencia        1049 non-null   object\n",
      " 1   titulo_anuncio    1049 non-null   object\n",
      " 2   estado_casa       1049 non-null   object\n",
      " 3   ubicacion         1049 non-null   object\n",
      " 4   año_construccion  1049 non-null   object\n",
      " 5   nro_habitaciones  1049 non-null   object\n",
      " 6   nro_baño          1049 non-null   object\n",
      " 7   m2_terreno        1049 non-null   object\n",
      " 8   nro_plantas       1049 non-null   object\n",
      " 9   m2_edificados     1049 non-null   object\n",
      " 10  nro_garajes       1049 non-null   object\n",
      " 11  precio_venta      1049 non-null   object\n",
      "dtypes: object(12)\n",
      "memory usage: 98.5+ KB\n",
      "\n"
     ]
    },
    {
     "data": {
      "text/html": [
       "<div>\n",
       "<style scoped>\n",
       "    .dataframe tbody tr th:only-of-type {\n",
       "        vertical-align: middle;\n",
       "    }\n",
       "\n",
       "    .dataframe tbody tr th {\n",
       "        vertical-align: top;\n",
       "    }\n",
       "\n",
       "    .dataframe thead th {\n",
       "        text-align: right;\n",
       "    }\n",
       "</style>\n",
       "<table border=\"1\" class=\"dataframe\">\n",
       "  <thead>\n",
       "    <tr style=\"text-align: right;\">\n",
       "      <th></th>\n",
       "      <th>referencia</th>\n",
       "      <th>titulo_anuncio</th>\n",
       "      <th>estado_casa</th>\n",
       "      <th>ubicacion</th>\n",
       "      <th>año_construccion</th>\n",
       "      <th>nro_habitaciones</th>\n",
       "      <th>nro_baño</th>\n",
       "      <th>m2_terreno</th>\n",
       "      <th>nro_plantas</th>\n",
       "      <th>m2_edificados</th>\n",
       "      <th>nro_garajes</th>\n",
       "      <th>precio_venta</th>\n",
       "    </tr>\n",
       "  </thead>\n",
       "  <tbody>\n",
       "    <tr>\n",
       "      <th>count</th>\n",
       "      <td>1049</td>\n",
       "      <td>1049</td>\n",
       "      <td>1049</td>\n",
       "      <td>1049</td>\n",
       "      <td>1049</td>\n",
       "      <td>1049</td>\n",
       "      <td>1049</td>\n",
       "      <td>1049</td>\n",
       "      <td>1049</td>\n",
       "      <td>1049</td>\n",
       "      <td>1049</td>\n",
       "      <td>1049</td>\n",
       "    </tr>\n",
       "    <tr>\n",
       "      <th>unique</th>\n",
       "      <td>1009</td>\n",
       "      <td>961</td>\n",
       "      <td>9</td>\n",
       "      <td>831</td>\n",
       "      <td>58</td>\n",
       "      <td>7</td>\n",
       "      <td>6</td>\n",
       "      <td>394</td>\n",
       "      <td>5</td>\n",
       "      <td>366</td>\n",
       "      <td>7</td>\n",
       "      <td>348</td>\n",
       "    </tr>\n",
       "    <tr>\n",
       "      <th>top</th>\n",
       "      <td>None</td>\n",
       "      <td>CASA EN VENTA</td>\n",
       "      <td>Excelente estado</td>\n",
       "      <td>Norte, Santa Cruz</td>\n",
       "      <td>¡Preguntale!</td>\n",
       "      <td>3</td>\n",
       "      <td>3</td>\n",
       "      <td>300 m2</td>\n",
       "      <td>2</td>\n",
       "      <td>120 m2</td>\n",
       "      <td>2</td>\n",
       "      <td>U$S 120.000</td>\n",
       "    </tr>\n",
       "    <tr>\n",
       "      <th>freq</th>\n",
       "      <td>7</td>\n",
       "      <td>10</td>\n",
       "      <td>423</td>\n",
       "      <td>34</td>\n",
       "      <td>339</td>\n",
       "      <td>505</td>\n",
       "      <td>733</td>\n",
       "      <td>80</td>\n",
       "      <td>482</td>\n",
       "      <td>25</td>\n",
       "      <td>500</td>\n",
       "      <td>22</td>\n",
       "    </tr>\n",
       "  </tbody>\n",
       "</table>\n",
       "</div>"
      ],
      "text/plain": [
       "       referencia titulo_anuncio       estado_casa          ubicacion  \\\n",
       "count        1049           1049              1049               1049   \n",
       "unique       1009            961                 9                831   \n",
       "top          None  CASA EN VENTA  Excelente estado  Norte, Santa Cruz   \n",
       "freq            7             10               423                 34   \n",
       "\n",
       "       año_construccion nro_habitaciones nro_baño m2_terreno nro_plantas  \\\n",
       "count              1049             1049     1049       1049        1049   \n",
       "unique               58                7        6        394           5   \n",
       "top        ¡Preguntale!                3        3     300 m2           2   \n",
       "freq                339              505      733         80         482   \n",
       "\n",
       "       m2_edificados nro_garajes precio_venta  \n",
       "count           1049        1049         1049  \n",
       "unique           366           7          348  \n",
       "top           120 m2           2  U$S 120.000  \n",
       "freq              25         500           22  "
      ]
     },
     "execution_count": 3,
     "metadata": {},
     "output_type": "execute_result"
    }
   ],
   "source": [
    "#Datos no nulos\n",
    "data_brute.info()\n",
    "\n",
    "print()#Valores unicos\n",
    "data_brute.describe(include='all')"
   ]
  },
  {
   "attachments": {},
   "cell_type": "markdown",
   "metadata": {},
   "source": [
    "# Evaluacion de las variables"
   ]
  },
  {
   "cell_type": "code",
   "execution_count": 4,
   "metadata": {},
   "outputs": [
    {
     "data": {
      "text/plain": [
       "referencia\n",
       "1,70E+59    1\n",
       "11DDF       1\n",
       "12FB3       1\n",
       "14C65       1\n",
       "152B9       1\n",
       "           ..\n",
       "cE423       1\n",
       "d667D       1\n",
       "e600B       1\n",
       "f435C       2\n",
       "fFA51       1\n",
       "Name: referencia, Length: 1009, dtype: int64"
      ]
     },
     "execution_count": 4,
     "metadata": {},
     "output_type": "execute_result"
    }
   ],
   "source": [
    "#Verificamos la variable referencia\n",
    "\n",
    "referencias = data_brute.groupby(['referencia'])['referencia'].count()\n",
    "referencias[referencias>0]"
   ]
  },
  {
   "cell_type": "code",
   "execution_count": 5,
   "metadata": {},
   "outputs": [
    {
     "data": {
      "text/html": [
       "<div>\n",
       "<style scoped>\n",
       "    .dataframe tbody tr th:only-of-type {\n",
       "        vertical-align: middle;\n",
       "    }\n",
       "\n",
       "    .dataframe tbody tr th {\n",
       "        vertical-align: top;\n",
       "    }\n",
       "\n",
       "    .dataframe thead th {\n",
       "        text-align: right;\n",
       "    }\n",
       "</style>\n",
       "<table border=\"1\" class=\"dataframe\">\n",
       "  <thead>\n",
       "    <tr style=\"text-align: right;\">\n",
       "      <th></th>\n",
       "      <th>index</th>\n",
       "      <th>referencia</th>\n",
       "      <th>titulo_anuncio</th>\n",
       "      <th>estado_casa</th>\n",
       "      <th>ubicacion</th>\n",
       "      <th>año_construccion</th>\n",
       "      <th>nro_habitaciones</th>\n",
       "      <th>nro_baño</th>\n",
       "      <th>m2_terreno</th>\n",
       "      <th>nro_plantas</th>\n",
       "      <th>m2_edificados</th>\n",
       "      <th>nro_garajes</th>\n",
       "      <th>precio_venta</th>\n",
       "    </tr>\n",
       "  </thead>\n",
       "  <tbody>\n",
       "    <tr>\n",
       "      <th>count</th>\n",
       "      <td>1008.000000</td>\n",
       "      <td>1008</td>\n",
       "      <td>1008</td>\n",
       "      <td>1008</td>\n",
       "      <td>1008</td>\n",
       "      <td>1008</td>\n",
       "      <td>1008</td>\n",
       "      <td>1008</td>\n",
       "      <td>1008</td>\n",
       "      <td>1008</td>\n",
       "      <td>1008</td>\n",
       "      <td>1008</td>\n",
       "      <td>1008</td>\n",
       "    </tr>\n",
       "    <tr>\n",
       "      <th>unique</th>\n",
       "      <td>NaN</td>\n",
       "      <td>1008</td>\n",
       "      <td>961</td>\n",
       "      <td>8</td>\n",
       "      <td>830</td>\n",
       "      <td>58</td>\n",
       "      <td>7</td>\n",
       "      <td>5</td>\n",
       "      <td>393</td>\n",
       "      <td>4</td>\n",
       "      <td>365</td>\n",
       "      <td>6</td>\n",
       "      <td>347</td>\n",
       "    </tr>\n",
       "    <tr>\n",
       "      <th>top</th>\n",
       "      <td>NaN</td>\n",
       "      <td>E457CA</td>\n",
       "      <td>CASA EN VENTA</td>\n",
       "      <td>Excelente estado</td>\n",
       "      <td>Norte, Santa Cruz</td>\n",
       "      <td>¡Preguntale!</td>\n",
       "      <td>3</td>\n",
       "      <td>3</td>\n",
       "      <td>300 m2</td>\n",
       "      <td>2</td>\n",
       "      <td>120 m2</td>\n",
       "      <td>2</td>\n",
       "      <td>U$S 120.000</td>\n",
       "    </tr>\n",
       "    <tr>\n",
       "      <th>freq</th>\n",
       "      <td>NaN</td>\n",
       "      <td>1</td>\n",
       "      <td>10</td>\n",
       "      <td>410</td>\n",
       "      <td>33</td>\n",
       "      <td>322</td>\n",
       "      <td>485</td>\n",
       "      <td>709</td>\n",
       "      <td>77</td>\n",
       "      <td>466</td>\n",
       "      <td>23</td>\n",
       "      <td>479</td>\n",
       "      <td>22</td>\n",
       "    </tr>\n",
       "    <tr>\n",
       "      <th>mean</th>\n",
       "      <td>511.440476</td>\n",
       "      <td>NaN</td>\n",
       "      <td>NaN</td>\n",
       "      <td>NaN</td>\n",
       "      <td>NaN</td>\n",
       "      <td>NaN</td>\n",
       "      <td>NaN</td>\n",
       "      <td>NaN</td>\n",
       "      <td>NaN</td>\n",
       "      <td>NaN</td>\n",
       "      <td>NaN</td>\n",
       "      <td>NaN</td>\n",
       "      <td>NaN</td>\n",
       "    </tr>\n",
       "    <tr>\n",
       "      <th>std</th>\n",
       "      <td>299.450063</td>\n",
       "      <td>NaN</td>\n",
       "      <td>NaN</td>\n",
       "      <td>NaN</td>\n",
       "      <td>NaN</td>\n",
       "      <td>NaN</td>\n",
       "      <td>NaN</td>\n",
       "      <td>NaN</td>\n",
       "      <td>NaN</td>\n",
       "      <td>NaN</td>\n",
       "      <td>NaN</td>\n",
       "      <td>NaN</td>\n",
       "      <td>NaN</td>\n",
       "    </tr>\n",
       "    <tr>\n",
       "      <th>min</th>\n",
       "      <td>0.000000</td>\n",
       "      <td>NaN</td>\n",
       "      <td>NaN</td>\n",
       "      <td>NaN</td>\n",
       "      <td>NaN</td>\n",
       "      <td>NaN</td>\n",
       "      <td>NaN</td>\n",
       "      <td>NaN</td>\n",
       "      <td>NaN</td>\n",
       "      <td>NaN</td>\n",
       "      <td>NaN</td>\n",
       "      <td>NaN</td>\n",
       "      <td>NaN</td>\n",
       "    </tr>\n",
       "    <tr>\n",
       "      <th>25%</th>\n",
       "      <td>253.750000</td>\n",
       "      <td>NaN</td>\n",
       "      <td>NaN</td>\n",
       "      <td>NaN</td>\n",
       "      <td>NaN</td>\n",
       "      <td>NaN</td>\n",
       "      <td>NaN</td>\n",
       "      <td>NaN</td>\n",
       "      <td>NaN</td>\n",
       "      <td>NaN</td>\n",
       "      <td>NaN</td>\n",
       "      <td>NaN</td>\n",
       "      <td>NaN</td>\n",
       "    </tr>\n",
       "    <tr>\n",
       "      <th>50%</th>\n",
       "      <td>506.500000</td>\n",
       "      <td>NaN</td>\n",
       "      <td>NaN</td>\n",
       "      <td>NaN</td>\n",
       "      <td>NaN</td>\n",
       "      <td>NaN</td>\n",
       "      <td>NaN</td>\n",
       "      <td>NaN</td>\n",
       "      <td>NaN</td>\n",
       "      <td>NaN</td>\n",
       "      <td>NaN</td>\n",
       "      <td>NaN</td>\n",
       "      <td>NaN</td>\n",
       "    </tr>\n",
       "    <tr>\n",
       "      <th>75%</th>\n",
       "      <td>761.250000</td>\n",
       "      <td>NaN</td>\n",
       "      <td>NaN</td>\n",
       "      <td>NaN</td>\n",
       "      <td>NaN</td>\n",
       "      <td>NaN</td>\n",
       "      <td>NaN</td>\n",
       "      <td>NaN</td>\n",
       "      <td>NaN</td>\n",
       "      <td>NaN</td>\n",
       "      <td>NaN</td>\n",
       "      <td>NaN</td>\n",
       "      <td>NaN</td>\n",
       "    </tr>\n",
       "    <tr>\n",
       "      <th>max</th>\n",
       "      <td>1048.000000</td>\n",
       "      <td>NaN</td>\n",
       "      <td>NaN</td>\n",
       "      <td>NaN</td>\n",
       "      <td>NaN</td>\n",
       "      <td>NaN</td>\n",
       "      <td>NaN</td>\n",
       "      <td>NaN</td>\n",
       "      <td>NaN</td>\n",
       "      <td>NaN</td>\n",
       "      <td>NaN</td>\n",
       "      <td>NaN</td>\n",
       "      <td>NaN</td>\n",
       "    </tr>\n",
       "  </tbody>\n",
       "</table>\n",
       "</div>"
      ],
      "text/plain": [
       "              index referencia titulo_anuncio       estado_casa  \\\n",
       "count   1008.000000       1008           1008              1008   \n",
       "unique          NaN       1008            961                 8   \n",
       "top             NaN     E457CA  CASA EN VENTA  Excelente estado   \n",
       "freq            NaN          1             10               410   \n",
       "mean     511.440476        NaN            NaN               NaN   \n",
       "std      299.450063        NaN            NaN               NaN   \n",
       "min        0.000000        NaN            NaN               NaN   \n",
       "25%      253.750000        NaN            NaN               NaN   \n",
       "50%      506.500000        NaN            NaN               NaN   \n",
       "75%      761.250000        NaN            NaN               NaN   \n",
       "max     1048.000000        NaN            NaN               NaN   \n",
       "\n",
       "                ubicacion año_construccion nro_habitaciones nro_baño  \\\n",
       "count                1008             1008             1008     1008   \n",
       "unique                830               58                7        5   \n",
       "top     Norte, Santa Cruz     ¡Preguntale!                3        3   \n",
       "freq                   33              322              485      709   \n",
       "mean                  NaN              NaN              NaN      NaN   \n",
       "std                   NaN              NaN              NaN      NaN   \n",
       "min                   NaN              NaN              NaN      NaN   \n",
       "25%                   NaN              NaN              NaN      NaN   \n",
       "50%                   NaN              NaN              NaN      NaN   \n",
       "75%                   NaN              NaN              NaN      NaN   \n",
       "max                   NaN              NaN              NaN      NaN   \n",
       "\n",
       "       m2_terreno nro_plantas m2_edificados nro_garajes precio_venta  \n",
       "count        1008        1008          1008        1008         1008  \n",
       "unique        393           4           365           6          347  \n",
       "top        300 m2           2        120 m2           2  U$S 120.000  \n",
       "freq           77         466            23         479           22  \n",
       "mean          NaN         NaN           NaN         NaN          NaN  \n",
       "std           NaN         NaN           NaN         NaN          NaN  \n",
       "min           NaN         NaN           NaN         NaN          NaN  \n",
       "25%           NaN         NaN           NaN         NaN          NaN  \n",
       "50%           NaN         NaN           NaN         NaN          NaN  \n",
       "75%           NaN         NaN           NaN         NaN          NaN  \n",
       "max           NaN         NaN           NaN         NaN          NaN  "
      ]
     },
     "execution_count": 5,
     "metadata": {},
     "output_type": "execute_result"
    }
   ],
   "source": [
    "#Hay datos duplicados y nulos (None)\n",
    "\n",
    "#Borramos los nulos\n",
    "df1 = data_brute.copy()\n",
    "df1 = df1[~df1.referencia.str.startswith(\"None\")]\n",
    "\n",
    "#Colocando los valores reales\n",
    "df1.referencia = df1.referencia.replace({\"5,9E+93\":'59E92'})\n",
    "df1.referencia = df1.referencia.replace({\"4,95E+07\":'495E5'})\n",
    "df1.referencia = df1.referencia.replace({\"4,10E+55\":'41E54'})\n",
    "df1.referencia = df1.referencia.replace({\"6,40E+28\":'64E27'})\n",
    "df1.referencia = df1.referencia.replace({\"9,50E+86\":'95E85'})\n",
    "df1.referencia = df1.referencia.replace({\"2,07E+03\":'207E1'})\n",
    "df1.referencia = df1.referencia.replace({\"1,70E+59\":'17E58'})\n",
    "\n",
    "\n",
    "#Borramos las filas duplicadas\n",
    "df1.drop_duplicates(keep='first', inplace=True)\n",
    "#Borramos las filas que solo registraron valores nulos\n",
    "df1 = df1[~(df1.referencia.str.contains(\"73AC6\") & df1.nro_habitaciones.str.startswith(\"None\") )] #Valor unico que necesita removerse de forma manual por tener un campo diferente\n",
    "df1.reset_index(inplace=True)\n",
    "df1.describe(include='all')\n",
    "\n",
    "\n"
   ]
  },
  {
   "cell_type": "code",
   "execution_count": 6,
   "metadata": {},
   "outputs": [
    {
     "data": {
      "text/plain": [
       "estado_casa\n",
       "A estrenar                302\n",
       "A reciclar                  3\n",
       "Buen estado               221\n",
       "En construcción            29\n",
       "Excelente estado          410\n",
       "Reciclada                   1\n",
       "Requiere mantenimiento     19\n",
       "Sin Definir                23\n",
       "Name: estado_casa, dtype: int64"
      ]
     },
     "execution_count": 6,
     "metadata": {},
     "output_type": "execute_result"
    }
   ],
   "source": [
    "#Verificamos la variable estado_casa\n",
    "estados = df1.groupby(['estado_casa'])['estado_casa'].count()\n",
    "estados[estados>0]\n"
   ]
  },
  {
   "cell_type": "code",
   "execution_count": 7,
   "metadata": {},
   "outputs": [
    {
     "data": {
      "text/plain": [
       "ubicacion\n",
       "4to anillo y avenida Cristo Redentor, Norte, Santa Cruz                          3\n",
       "Centro, Santa Cruz                                                               3\n",
       "Ciudad Satélite, El alto                                                         3\n",
       "Cochabamba, Cochabamba                                                           6\n",
       "Doble via la guardia, Santa Cruz                                                 4\n",
       "Este, Santa Cruz                                                                16\n",
       "G77, Norte, Santa Cruz                                                           3\n",
       "Km 8 y medio entre Av. G77 y Avenida Internacional, Norte, Santa Cruz            5\n",
       "NORTE, Norte, Santa Cruz                                                         4\n",
       "Norte, Santa Cruz                                                               33\n",
       "Octavo anillo entre Av. Virgen de Cotoca y Av. Montecristo, Este, Santa Cruz     3\n",
       "Oeste, Santa Cruz                                                                4\n",
       "Pacata, Cochabamba                                                               3\n",
       "Remanso, Santa Cruz                                                             11\n",
       "Sacaba, Cochabamba                                                               6\n",
       "Sur, Santa Cruz                                                                 19\n",
       "Tiquipaya, Cochabamba                                                            5\n",
       "Urb. Privada, Achumani, La Paz                                                   3\n",
       "Urubó, Santa Cruz                                                               12\n",
       "condominio Santa Cruz de la Colina, Urubó, Santa Cruz                            4\n",
       "urubo, Urubó, Santa Cruz                                                         7\n",
       "zona sur, Sur, Santa Cruz                                                        3\n",
       "Name: ubicacion, dtype: int64"
      ]
     },
     "execution_count": 7,
     "metadata": {},
     "output_type": "execute_result"
    }
   ],
   "source": [
    "#Verificamos la variable ubicacion\n",
    "ubicaciones= df1.groupby(['ubicacion'])['ubicacion'].count()\n",
    "ubicaciones[ubicaciones>2]"
   ]
  },
  {
   "cell_type": "code",
   "execution_count": 8,
   "metadata": {},
   "outputs": [
    {
     "data": {
      "text/html": [
       "<div>\n",
       "<style scoped>\n",
       "    .dataframe tbody tr th:only-of-type {\n",
       "        vertical-align: middle;\n",
       "    }\n",
       "\n",
       "    .dataframe tbody tr th {\n",
       "        vertical-align: top;\n",
       "    }\n",
       "\n",
       "    .dataframe thead th {\n",
       "        text-align: right;\n",
       "    }\n",
       "</style>\n",
       "<table border=\"1\" class=\"dataframe\">\n",
       "  <thead>\n",
       "    <tr style=\"text-align: right;\">\n",
       "      <th></th>\n",
       "      <th>index</th>\n",
       "      <th>referencia</th>\n",
       "      <th>titulo_anuncio</th>\n",
       "      <th>estado_casa</th>\n",
       "      <th>departamento</th>\n",
       "      <th>ubicacion</th>\n",
       "      <th>año_construccion</th>\n",
       "      <th>nro_habitaciones</th>\n",
       "      <th>nro_baño</th>\n",
       "      <th>m2_terreno</th>\n",
       "      <th>nro_plantas</th>\n",
       "      <th>m2_edificados</th>\n",
       "      <th>nro_garajes</th>\n",
       "      <th>precio_venta</th>\n",
       "    </tr>\n",
       "  </thead>\n",
       "  <tbody>\n",
       "    <tr>\n",
       "      <th>0</th>\n",
       "      <td>0</td>\n",
       "      <td>E457CA</td>\n",
       "      <td>En venta casa de Lujo en Las Palmas</td>\n",
       "      <td>Excelente estado</td>\n",
       "      <td>Santa Cruz</td>\n",
       "      <td>Las Palmas, Las palmas, Santa Cruz</td>\n",
       "      <td>¡Preguntale!</td>\n",
       "      <td>4</td>\n",
       "      <td>3</td>\n",
       "      <td>600 m2</td>\n",
       "      <td>1</td>\n",
       "      <td>650 m2</td>\n",
       "      <td>2</td>\n",
       "      <td>U$S 850.000</td>\n",
       "    </tr>\n",
       "    <tr>\n",
       "      <th>1</th>\n",
       "      <td>1</td>\n",
       "      <td>Q67923</td>\n",
       "      <td>CASA EN VENTA EN LAS PALMAS</td>\n",
       "      <td>Excelente estado</td>\n",
       "      <td>Santa Cruz</td>\n",
       "      <td>ENTRE 3ER Y 4TO ANILLO C/ BAHIA CACERES Y CAPA...</td>\n",
       "      <td>¡Preguntale!</td>\n",
       "      <td>4</td>\n",
       "      <td>3</td>\n",
       "      <td>726 m2</td>\n",
       "      <td>1</td>\n",
       "      <td>¡Preguntale!</td>\n",
       "      <td>2</td>\n",
       "      <td>U$S 685.000</td>\n",
       "    </tr>\n",
       "    <tr>\n",
       "      <th>2</th>\n",
       "      <td>2</td>\n",
       "      <td>WC49A9</td>\n",
       "      <td>CASA EN VENTA, IRPAVI</td>\n",
       "      <td>Buen estado</td>\n",
       "      <td>La Paz</td>\n",
       "      <td>CALLE 18 Y OVANDO, Irpavi, La Paz</td>\n",
       "      <td>¡Preguntale!</td>\n",
       "      <td>3</td>\n",
       "      <td>3</td>\n",
       "      <td>643 m2</td>\n",
       "      <td>1</td>\n",
       "      <td>643 m2</td>\n",
       "      <td>3</td>\n",
       "      <td>U$S 449.000</td>\n",
       "    </tr>\n",
       "  </tbody>\n",
       "</table>\n",
       "</div>"
      ],
      "text/plain": [
       "   index referencia                       titulo_anuncio       estado_casa  \\\n",
       "0      0     E457CA  En venta casa de Lujo en Las Palmas  Excelente estado   \n",
       "1      1     Q67923          CASA EN VENTA EN LAS PALMAS  Excelente estado   \n",
       "2      2     WC49A9                CASA EN VENTA, IRPAVI       Buen estado   \n",
       "\n",
       "  departamento                                          ubicacion  \\\n",
       "0   Santa Cruz                 Las Palmas, Las palmas, Santa Cruz   \n",
       "1   Santa Cruz  ENTRE 3ER Y 4TO ANILLO C/ BAHIA CACERES Y CAPA...   \n",
       "2       La Paz                  CALLE 18 Y OVANDO, Irpavi, La Paz   \n",
       "\n",
       "  año_construccion nro_habitaciones nro_baño m2_terreno nro_plantas  \\\n",
       "0     ¡Preguntale!                4        3     600 m2           1   \n",
       "1     ¡Preguntale!                4        3     726 m2           1   \n",
       "2     ¡Preguntale!                3        3     643 m2           1   \n",
       "\n",
       "  m2_edificados nro_garajes precio_venta  \n",
       "0        650 m2           2  U$S 850.000  \n",
       "1  ¡Preguntale!           2  U$S 685.000  \n",
       "2        643 m2           3  U$S 449.000  "
      ]
     },
     "execution_count": 8,
     "metadata": {},
     "output_type": "execute_result"
    }
   ],
   "source": [
    "#Separamos de la columna ubicacion la ultima parte donde se encuentra generalmente el departamento\n",
    "#lo agregamos como una nueva columna\n",
    "df2 = df1.copy()\n",
    "departamentos =[]\n",
    "cadenas= df2['ubicacion'].str.split(\",\")\n",
    "for i in range((len(cadenas))):\n",
    "    departamentos.append((cadenas[i][-1]).strip())\n",
    "df2.insert(4, \"departamento\",value=departamentos , allow_duplicates=False)\n",
    "df2.head(3)"
   ]
  },
  {
   "cell_type": "code",
   "execution_count": 9,
   "metadata": {},
   "outputs": [
    {
     "data": {
      "text/plain": [
       "departamento\n",
       "Cobija          1\n",
       "Cochabamba     80\n",
       "Cotoca          1\n",
       "El alto        11\n",
       "La Guardia      1\n",
       "La Paz         68\n",
       "Porongo         1\n",
       "Riberalta       1\n",
       "Santa Cruz    836\n",
       "Sucre           4\n",
       "Tarija          3\n",
       "Warnes          1\n",
       "Name: departamento, dtype: int64"
      ]
     },
     "execution_count": 9,
     "metadata": {},
     "output_type": "execute_result"
    }
   ],
   "source": [
    "#Cambiamos la \",\" por \"_\" para evitar problemas en la lectura del csv a futuro\n",
    "df2['ubicacion']=df2['ubicacion'].str.replace(',','_')\n",
    "#Verificamos la columna departamento\n",
    "df2.groupby(['departamento'])['departamento'].count()"
   ]
  },
  {
   "cell_type": "code",
   "execution_count": 10,
   "metadata": {},
   "outputs": [
    {
     "data": {
      "text/plain": [
       "departamento\n",
       "Cochabamba     80\n",
       "La Paz         79\n",
       "Otro            9\n",
       "Santa Cruz    840\n",
       "Name: departamento, dtype: int64"
      ]
     },
     "execution_count": 10,
     "metadata": {},
     "output_type": "execute_result"
    }
   ],
   "source": [
    "#Reemplazamos los valores que no corresponden al eje central a estos si estan relacionados\n",
    "df3 = df2.copy()\n",
    "df3['departamento']=df3['departamento'].replace({\"Porongo\":'Santa Cruz',\n",
    "\"Cotoca\":'Santa Cruz',\n",
    "\"La Guardia\":'Santa Cruz',\n",
    "\"Warnes\":'Santa Cruz',\n",
    "\"El alto\":'La Paz',\n",
    "\"Cobija\":'Otro',\n",
    "\"Riberalta\":'Otro',\n",
    "\"Sucre\":'Otro',\n",
    "\"Tarija\":'Otro'\n",
    "})\n",
    "df3.groupby(['departamento'])['departamento'].count()"
   ]
  },
  {
   "cell_type": "code",
   "execution_count": 11,
   "metadata": {},
   "outputs": [
    {
     "data": {
      "text/plain": [
       "año_construccion\n",
       "1                            9\n",
       "10                           7\n",
       "10 AÑOS                      1\n",
       "10 años                      1\n",
       "12                           1\n",
       "15                           3\n",
       "1970                         1\n",
       "1975                         1\n",
       "1978                         1\n",
       "1980                         2\n",
       "1984                         1\n",
       "1988                         1\n",
       "1990                         5\n",
       "1991                         1\n",
       "1993                         1\n",
       "1994                         1\n",
       "1995                         6\n",
       "1997                         3\n",
       "1998                         3\n",
       "2                            5\n",
       "2 años                       1\n",
       "2.014                        1\n",
       "2.017                        1\n",
       "2000                        14\n",
       "2001                         1\n",
       "2002                         7\n",
       "2003                         2\n",
       "2005                        16\n",
       "2006                         4\n",
       "2007                         5\n",
       "2008                         4\n",
       "2009                         4\n",
       "2010                        31\n",
       "2011                         6\n",
       "2012                        19\n",
       "2013                        13\n",
       "2014                        20\n",
       "2015                        46\n",
       "2016                        28\n",
       "2017                        39\n",
       "2018                        63\n",
       "2018 /3 meses atras          1\n",
       "2019                        34\n",
       "2020                        42\n",
       "2021                        49\n",
       "2022                       137\n",
       "2023                        18\n",
       "3                            3\n",
       "4                            3\n",
       "5                            6\n",
       "6                            2\n",
       "8                            2\n",
       "CASA EN VENTA, ACHUMANI      1\n",
       "NUEVA                        2\n",
       "PRE VENTA                    1\n",
       "PRE VENTAS                   1\n",
       "a estrenar                   5\n",
       "¡Preguntale!               322\n",
       "Name: año_construccion, dtype: int64"
      ]
     },
     "execution_count": 11,
     "metadata": {},
     "output_type": "execute_result"
    }
   ],
   "source": [
    "\n",
    "#Verificamos la variable año_de construccion\n",
    "df3.groupby(['año_construccion'])['año_construccion'].count()\n"
   ]
  },
  {
   "cell_type": "code",
   "execution_count": 34,
   "metadata": {},
   "outputs": [
    {
     "name": "stdout",
     "output_type": "stream",
     "text": [
      "5\n",
      "10 \n",
      "10 \n",
      "2022\n",
      "2 \n",
      "NaN\n",
      "NaN\n",
      "NaN\n",
      "2018 \n",
      "NaN\n",
      "NaN\n",
      "None\n"
     ]
    }
   ],
   "source": [
    "#Al haber datos que no se relacionan con la variable, se procede a limpiarlo\n",
    "df4 = df3.copy()\n",
    "#Para los casos que tienen puntos se remueven estos\n",
    "df4['año_construccion']=df4['año_construccion'].str.replace('.','',regex=True)\n",
    "\n",
    "#Creamos una funcion aplicnado expresiones regulares que identifique los valores con numeros y aparte los que contengan letras \n",
    "def limpiar_año(x):\n",
    "    if re.search(r'^[0-9\\s]+',x):\n",
    "        return re.search(r'^[0-9\\s]+',x).group()\n",
    "    else:    \n",
    "        if re.search(r'^[¡!,a-zA-Z\\s]+', x):\n",
    "            return \"NaN\"\n",
    "#Validamos para todos los casos el resultado\n",
    "print(limpiar_año(\"5\"))\n",
    "print(limpiar_año(\"10 años\"))\n",
    "print(limpiar_año(\"10 AÑOS \"))\n",
    "print(limpiar_año(\"2022\"))\n",
    "print(limpiar_año(\"2 años\"))\n",
    "print(limpiar_año(\"NUEVA\"))\n",
    "print(limpiar_año(\"PRE VENTAS \"))\n",
    "print(limpiar_año(\"PREVENTAS \"))\n",
    "print(limpiar_año(\"2018 /3 meses atras\"))\n",
    "print(limpiar_año(\"CASA EN VENTA, ACHUMANI\"))\n",
    "print(limpiar_año(\"¡Preguntale!\"))\n",
    "print(limpiar_año(\"#\"))\n"
   ]
  },
  {
   "cell_type": "code",
   "execution_count": 13,
   "metadata": {},
   "outputs": [
    {
     "data": {
      "text/plain": [
       "año_construccion\n",
       "1          9\n",
       "10         7\n",
       "10         2\n",
       "12         1\n",
       "15         3\n",
       "1970       1\n",
       "1975       1\n",
       "1978       1\n",
       "1980       2\n",
       "1984       1\n",
       "1988       1\n",
       "1990       5\n",
       "1991       1\n",
       "1993       1\n",
       "1994       1\n",
       "1995       6\n",
       "1997       3\n",
       "1998       3\n",
       "2          5\n",
       "2          1\n",
       "2000      14\n",
       "2001       1\n",
       "2002       7\n",
       "2003       2\n",
       "2005      16\n",
       "2006       4\n",
       "2007       5\n",
       "2008       4\n",
       "2009       4\n",
       "2010      31\n",
       "2011       6\n",
       "2012      19\n",
       "2013      13\n",
       "2014      21\n",
       "2015      46\n",
       "2016      28\n",
       "2017      40\n",
       "2018      63\n",
       "2018       1\n",
       "2019      34\n",
       "2020      42\n",
       "2021      49\n",
       "2022     137\n",
       "2023      18\n",
       "3          3\n",
       "4          3\n",
       "5          6\n",
       "6          2\n",
       "8          2\n",
       "NaN      332\n",
       "Name: año_construccion, dtype: int64"
      ]
     },
     "execution_count": 13,
     "metadata": {},
     "output_type": "execute_result"
    }
   ],
   "source": [
    "#Al haber logrado que la funcion limpie los datos que no corresponden para todos los casos, se procede a limpiar la columna\n",
    "df4[\"año_construccion\"] = df4[\"año_construccion\"].apply(limpiar_año)\n",
    "df4.groupby(['año_construccion'])['año_construccion'].count()"
   ]
  },
  {
   "cell_type": "code",
   "execution_count": 15,
   "metadata": {},
   "outputs": [
    {
     "data": {
      "text/plain": [
       "antiguedad\n",
       "0.0      18\n",
       "1.0     146\n",
       "2.0      55\n",
       "3.0      45\n",
       "4.0      37\n",
       "5.0      70\n",
       "6.0      42\n",
       "7.0      28\n",
       "8.0      48\n",
       "9.0      21\n",
       "10.0     22\n",
       "11.0     19\n",
       "12.0      7\n",
       "13.0     31\n",
       "14.0      4\n",
       "15.0      7\n",
       "16.0      5\n",
       "17.0      4\n",
       "18.0     16\n",
       "20.0      2\n",
       "21.0      7\n",
       "22.0      1\n",
       "23.0     14\n",
       "25.0      3\n",
       "26.0      3\n",
       "28.0      6\n",
       "29.0      1\n",
       "30.0      1\n",
       "32.0      1\n",
       "33.0      5\n",
       "35.0      1\n",
       "39.0      1\n",
       "43.0      2\n",
       "45.0      1\n",
       "48.0      1\n",
       "53.0      1\n",
       "Name: antiguedad, dtype: int64"
      ]
     },
     "execution_count": 15,
     "metadata": {},
     "output_type": "execute_result"
    }
   ],
   "source": [
    "#Al tener la columna año_construccion que contiene el año de construccion como la antiguedad \n",
    "#se procede a generar una nueva columna que solo contenga la antiguedad\n",
    "\n",
    "def obtener_antiguedad(x):\n",
    "    try:\n",
    "        if x > 1900:\n",
    "            return 2023-x\n",
    "        else:\n",
    "            return x\n",
    "    except:\n",
    "        return float(\"NaN\")\n",
    "              \n",
    "df5 =df4.copy()\n",
    "df5[\"año_construccion\"]=df5[\"año_construccion\"].astype(\"float\")\n",
    "df5[\"antiguedad\"] = df5[\"año_construccion\"].apply(obtener_antiguedad)\n",
    "df5.groupby(['antiguedad'])['antiguedad'].count()"
   ]
  },
  {
   "cell_type": "code",
   "execution_count": 16,
   "metadata": {},
   "outputs": [
    {
     "name": "stdout",
     "output_type": "stream",
     "text": [
      "<class 'pandas.core.frame.DataFrame'>\n",
      "RangeIndex: 1008 entries, 0 to 1007\n",
      "Data columns (total 14 columns):\n",
      " #   Column            Non-Null Count  Dtype  \n",
      "---  ------            --------------  -----  \n",
      " 0   index             1008 non-null   int64  \n",
      " 1   referencia        1008 non-null   object \n",
      " 2   titulo_anuncio    1008 non-null   object \n",
      " 3   estado_casa       1008 non-null   object \n",
      " 4   departamento      1008 non-null   object \n",
      " 5   ubicacion         1008 non-null   object \n",
      " 6   nro_habitaciones  1008 non-null   object \n",
      " 7   nro_baño          1008 non-null   object \n",
      " 8   m2_terreno        1008 non-null   object \n",
      " 9   nro_plantas       1008 non-null   object \n",
      " 10  m2_edificados     1008 non-null   object \n",
      " 11  nro_garajes       1008 non-null   object \n",
      " 12  precio_venta      1008 non-null   object \n",
      " 13  antiguedad        676 non-null    float64\n",
      "dtypes: float64(1), int64(1), object(12)\n",
      "memory usage: 110.4+ KB\n"
     ]
    }
   ],
   "source": [
    "#Eliminamos la columna años\n",
    "df5.drop(\"año_construccion\",axis=1,inplace=True)\n",
    "df5.info()"
   ]
  },
  {
   "cell_type": "code",
   "execution_count": 16,
   "metadata": {},
   "outputs": [
    {
     "data": {
      "text/plain": [
       "nro_habitaciones\n",
       "1                 4\n",
       "2                53\n",
       "3               485\n",
       "4               277\n",
       "5               173\n",
       "None             11\n",
       "¡Preguntale!      5\n",
       "Name: nro_habitaciones, dtype: int64"
      ]
     },
     "execution_count": 16,
     "metadata": {},
     "output_type": "execute_result"
    }
   ],
   "source": [
    "#Verficamos la variable nro_habitaciones\n",
    "df5.groupby(['nro_habitaciones'])['nro_habitaciones'].count()"
   ]
  },
  {
   "cell_type": "code",
   "execution_count": 17,
   "metadata": {},
   "outputs": [
    {
     "data": {
      "text/plain": [
       "nro_habitaciones\n",
       "1.0      4\n",
       "2.0     53\n",
       "3.0    485\n",
       "4.0    277\n",
       "5.0    173\n",
       "Name: nro_habitaciones, dtype: int64"
      ]
     },
     "execution_count": 17,
     "metadata": {},
     "output_type": "execute_result"
    }
   ],
   "source": [
    "#Limpiamos los valores que no son numeros y lo convertimo a tipo float\n",
    "df6 = df5.copy()\n",
    "df6['nro_habitaciones']=df6['nro_habitaciones'].replace({\"None\": 'NaN',\"¡Preguntale!\":'NaN'})\n",
    "df6['nro_habitaciones']=df6['nro_habitaciones'].str.strip()\n",
    "df6[\"nro_habitaciones\"]=df6[\"nro_habitaciones\"].astype(\"float\")\n",
    "df6.groupby(['nro_habitaciones'])['nro_habitaciones'].count()"
   ]
  },
  {
   "cell_type": "code",
   "execution_count": 18,
   "metadata": {},
   "outputs": [
    {
     "data": {
      "text/plain": [
       "nro_baño\n",
       "1     77\n",
       "2    217\n",
       "3    709\n",
       "4      4\n",
       "8      1\n",
       "Name: nro_baño, dtype: int64"
      ]
     },
     "execution_count": 18,
     "metadata": {},
     "output_type": "execute_result"
    }
   ],
   "source": [
    "#Verificamos la variable nro_baños\n",
    "df6.groupby(['nro_baño'])['nro_baño'].count()"
   ]
  },
  {
   "cell_type": "code",
   "execution_count": 19,
   "metadata": {},
   "outputs": [
    {
     "data": {
      "text/plain": [
       "nro_baño\n",
       "1     77\n",
       "2    217\n",
       "3    709\n",
       "4      4\n",
       "8      1\n",
       "Name: nro_baño, dtype: int64"
      ]
     },
     "execution_count": 19,
     "metadata": {},
     "output_type": "execute_result"
    }
   ],
   "source": [
    "#Convertimos la variable en un tipo int\n",
    "df7=df6.copy()\n",
    "df7['nro_baño']=df7['nro_baño'].str.strip()\n",
    "df7[\"nro_baño\"]=df7[\"nro_baño\"].astype(\"int64\")\n",
    "df7.groupby(['nro_baño'])['nro_baño'].count()"
   ]
  },
  {
   "cell_type": "code",
   "execution_count": 20,
   "metadata": {},
   "outputs": [
    {
     "data": {
      "text/plain": [
       "m2_terreno\n",
       "1.000 m2        5\n",
       "1.031 m2        1\n",
       "1.038 m2        2\n",
       "1.040 m2        1\n",
       "1.043 m2        1\n",
       "               ..\n",
       "970 m2          1\n",
       "978 m2          1\n",
       "988 m2          1\n",
       "998 m2          1\n",
       "¡Preguntale!    3\n",
       "Name: m2_terreno, Length: 393, dtype: int64"
      ]
     },
     "execution_count": 20,
     "metadata": {},
     "output_type": "execute_result"
    }
   ],
   "source": [
    "#Verificamos la variable m2_terreno\n",
    "df7.groupby(['m2_terreno'])['m2_terreno'].count()"
   ]
  },
  {
   "cell_type": "code",
   "execution_count": 21,
   "metadata": {},
   "outputs": [
    {
     "data": {
      "text/plain": [
       "m2_terreno\n",
       "2.0         1\n",
       "15.0        2\n",
       "32.0        1\n",
       "41.0        1\n",
       "42.0        1\n",
       "           ..\n",
       "42660.0     1\n",
       "43115.0     1\n",
       "100020.0    1\n",
       "165410.0    1\n",
       "292500.0    1\n",
       "Name: m2_terreno, Length: 392, dtype: int64"
      ]
     },
     "execution_count": 21,
     "metadata": {},
     "output_type": "execute_result"
    }
   ],
   "source": [
    "#Limpiamos la variable por contener elementos que no son utiles en esta\n",
    "#Y lo pasamos a tipo float\n",
    "df8 = df7.copy()\n",
    "df8['m2_terreno']=df8['m2_terreno'].str.replace('m2','')\n",
    "df8['m2_terreno']=df8['m2_terreno'].str.replace('.','',regex=True)\n",
    "df8['m2_terreno']=df8['m2_terreno'].str.strip()\n",
    "df8['m2_terreno']=df8['m2_terreno'].replace({\"¡Preguntale!\":'NaN'})\n",
    "df8[\"m2_terreno\"]=df8[\"m2_terreno\"].astype(\"float\")\n",
    "df8.groupby(['m2_terreno'])['m2_terreno'].count()"
   ]
  },
  {
   "cell_type": "code",
   "execution_count": 22,
   "metadata": {},
   "outputs": [
    {
     "data": {
      "text/plain": [
       "nro_plantas\n",
       "1               411\n",
       "2               466\n",
       "3                86\n",
       "¡Preguntale!     45\n",
       "Name: nro_plantas, dtype: int64"
      ]
     },
     "execution_count": 22,
     "metadata": {},
     "output_type": "execute_result"
    }
   ],
   "source": [
    "#Analizamos la variable cantidad de plantas\n",
    "df8.groupby(['nro_plantas'])['nro_plantas'].count()"
   ]
  },
  {
   "cell_type": "code",
   "execution_count": 23,
   "metadata": {},
   "outputs": [
    {
     "data": {
      "text/plain": [
       "nro_plantas\n",
       "1.0    411\n",
       "2.0    466\n",
       "3.0     86\n",
       "Name: nro_plantas, dtype: int64"
      ]
     },
     "execution_count": 23,
     "metadata": {},
     "output_type": "execute_result"
    }
   ],
   "source": [
    "#Los valores no utiles a la variable se los pasa a NaN\n",
    "#Convertimos la variable en tipo float\n",
    "df9=df8.copy()\n",
    "df9['nro_plantas']=df9['nro_plantas'].replace({\"¡Preguntale!\":'NaN'})\n",
    "df9['nro_plantas']=df9['nro_plantas'].str.strip()\n",
    "df9[\"nro_plantas\"]=df9[\"nro_plantas\"].astype(\"float\")\n",
    "df9.groupby(['nro_plantas'])['nro_plantas'].count()"
   ]
  },
  {
   "cell_type": "code",
   "execution_count": 24,
   "metadata": {},
   "outputs": [
    {
     "data": {
      "text/plain": [
       "m2_edificados\n",
       "1 m2            1\n",
       "1.000 m2        1\n",
       "1.043 m2        1\n",
       "1.050 m2        1\n",
       "1.140 m2        1\n",
       "               ..\n",
       "938 m2          1\n",
       "94 m2           2\n",
       "95 m2           9\n",
       "98 m2           3\n",
       "¡Preguntale!    6\n",
       "Name: m2_edificados, Length: 365, dtype: int64"
      ]
     },
     "execution_count": 24,
     "metadata": {},
     "output_type": "execute_result"
    }
   ],
   "source": [
    "#Verificamos la variable m2_edificados\n",
    "df9.groupby(['m2_edificados'])['m2_edificados'].count()"
   ]
  },
  {
   "cell_type": "code",
   "execution_count": 25,
   "metadata": {},
   "outputs": [
    {
     "data": {
      "text/plain": [
       "m2_edificados\n",
       "1.0         1\n",
       "10.0        3\n",
       "17.0        1\n",
       "20.0        1\n",
       "41.0        1\n",
       "           ..\n",
       "24363.0     1\n",
       "26186.0     1\n",
       "34740.0     1\n",
       "178870.0    1\n",
       "309500.0    1\n",
       "Name: m2_edificados, Length: 364, dtype: int64"
      ]
     },
     "execution_count": 25,
     "metadata": {},
     "output_type": "execute_result"
    }
   ],
   "source": [
    "#Limpiamos la variable m2_edificados\n",
    "df10 = df9.copy()\n",
    "df10['m2_edificados']=df10['m2_edificados'].str.replace('m2','')\n",
    "df10['m2_edificados']=df10['m2_edificados'].str.replace('.','',regex=True)\n",
    "df10['m2_edificados']=df10['m2_edificados'].str.strip()\n",
    "df10['m2_edificados']=df10['m2_edificados'].replace({\"¡Preguntale!\":'NaN'})\n",
    "df10[\"m2_edificados\"]=df10[\"m2_edificados\"].astype(\"float\")\n",
    "df10.groupby(['m2_edificados'])['m2_edificados'].count()"
   ]
  },
  {
   "cell_type": "code",
   "execution_count": 26,
   "metadata": {},
   "outputs": [
    {
     "data": {
      "text/plain": [
       "nro_garajes\n",
       "1               174\n",
       "2               479\n",
       "3               290\n",
       "4                 1\n",
       "8                 1\n",
       "¡Preguntale!     63\n",
       "Name: nro_garajes, dtype: int64"
      ]
     },
     "execution_count": 26,
     "metadata": {},
     "output_type": "execute_result"
    }
   ],
   "source": [
    "#Verificamos la variable nro_garajes\n",
    "df10.groupby(['nro_garajes'])['nro_garajes'].count()"
   ]
  },
  {
   "cell_type": "code",
   "execution_count": 27,
   "metadata": {},
   "outputs": [
    {
     "data": {
      "text/plain": [
       "nro_garajes\n",
       "1.0    174\n",
       "2.0    479\n",
       "3.0    290\n",
       "4.0      1\n",
       "8.0      1\n",
       "Name: nro_garajes, dtype: int64"
      ]
     },
     "execution_count": 27,
     "metadata": {},
     "output_type": "execute_result"
    }
   ],
   "source": [
    "#Realizamos la limpieza de la variable\n",
    "df11=df10.copy()\n",
    "df11['nro_garajes']=df11['nro_garajes'].replace({\"¡Preguntale!\":'NaN'})\n",
    "df11['nro_garajes']=df11['nro_garajes'].str.strip()\n",
    "df11[\"nro_garajes\"]=df11[\"nro_garajes\"].astype(\"float\")\n",
    "df11.groupby(['nro_garajes'])['nro_garajes'].count()"
   ]
  },
  {
   "cell_type": "code",
   "execution_count": 28,
   "metadata": {},
   "outputs": [
    {
     "data": {
      "text/plain": [
       "precio_venta\n",
       "Consultar        8\n",
       "U$S 1.000        2\n",
       "U$S 1.050.000    2\n",
       "U$S 1.150.000    1\n",
       "U$S 1.200.000    4\n",
       "                ..\n",
       "U$S 99.000       2\n",
       "U$S 99.700       1\n",
       "U$S 990.000      1\n",
       "U$S 995.000      1\n",
       "€ 157.000        1\n",
       "Name: precio_venta, Length: 347, dtype: int64"
      ]
     },
     "execution_count": 28,
     "metadata": {},
     "output_type": "execute_result"
    }
   ],
   "source": [
    "#Verificamos la variable precio\n",
    "df11.groupby(['precio_venta'])['precio_venta'].count()"
   ]
  },
  {
   "cell_type": "code",
   "execution_count": 29,
   "metadata": {},
   "outputs": [
    {
     "data": {
      "text/plain": [
       "moneda\n",
       "Consultar      8\n",
       "U$S          999\n",
       "€              1\n",
       "Name: moneda, dtype: int64"
      ]
     },
     "execution_count": 29,
     "metadata": {},
     "output_type": "execute_result"
    }
   ],
   "source": [
    "#Al haber a primera vista dos tipos de monedas, se crea una funcion para determinar si existen mas\n",
    "df12 = df11.copy()\n",
    "monedas =[]\n",
    "cadenas2= df12['precio_venta'].str.split(\" \")\n",
    "for i in range((len(cadenas2))):\n",
    "    monedas.append(cadenas2[i][0])\n",
    "df12.insert(12, \"moneda\",value=monedas , allow_duplicates=False)\n",
    "df12.groupby(['moneda'])['moneda'].count()"
   ]
  },
  {
   "cell_type": "code",
   "execution_count": 48,
   "metadata": {},
   "outputs": [
    {
     "data": {
      "text/plain": [
       "precio_venta\n",
       "NaN              8\n",
       "U$S 1.000        2\n",
       "U$S 1.050.000    2\n",
       "U$S 1.150.000    1\n",
       "U$S 1.200.000    4\n",
       "                ..\n",
       "U$S 980.000      2\n",
       "U$S 99.000       2\n",
       "U$S 99.700       1\n",
       "U$S 990.000      1\n",
       "U$S 995.000      1\n",
       "Name: precio_venta, Length: 347, dtype: int64"
      ]
     },
     "execution_count": 48,
     "metadata": {},
     "output_type": "execute_result"
    }
   ],
   "source": [
    "#Al confirmarse que solo hay un caso de moneda en euro, se hace solamente un cambio especifico a este\n",
    "#Limpiamos los valores \"Consultar\" con NaN\n",
    "df13=df11.copy()\n",
    "df13['precio_venta']=df13['precio_venta'].replace({\"€ 157.000\":'U$S 168.389',\"Consultar\":'NaN'})\n",
    "df13.groupby(['precio_venta'])['precio_venta'].count()"
   ]
  },
  {
   "cell_type": "code",
   "execution_count": 55,
   "metadata": {},
   "outputs": [
    {
     "data": {
      "text/plain": [
       "precio_venta\n",
       "145.0          1\n",
       "500.0          1\n",
       "1000.0         2\n",
       "13000.0        1\n",
       "15500.0        1\n",
       "              ..\n",
       "2290000.0      1\n",
       "2500000.0      1\n",
       "2550000.0      1\n",
       "4000000.0      1\n",
       "123456789.0    1\n",
       "Name: precio_venta, Length: 346, dtype: int64"
      ]
     },
     "execution_count": 55,
     "metadata": {},
     "output_type": "execute_result"
    }
   ],
   "source": [
    "#Limpiamos los caracteres del tipo moneda y quitamos el punto decimal\n",
    "#Cambiamos la variable a tipo float\n",
    "df14 = df13.copy()\n",
    "df14['precio_venta']=df14['precio_venta'].str.replace('U\\$S','',regex=True)\n",
    "df14['precio_venta']=df14['precio_venta'].str.replace('.','',regex=True)\n",
    "df14['precio_venta']=df14['precio_venta'].str.strip()\n",
    "#df14 = df14[~(df14.precio_venta.str.contains(\"NaN\"))]\n",
    "df14[\"precio_venta\"]=df14[\"precio_venta\"].astype(\"float\")\n",
    "df14.groupby(['precio_venta'])['precio_venta'].count()"
   ]
  },
  {
   "cell_type": "code",
   "execution_count": 54,
   "metadata": {},
   "outputs": [],
   "source": [
    "df14.reset_index(drop=True, inplace=True)\n",
    "df14.to_csv('clean_house.csv',index=False)"
   ]
  },
  {
   "cell_type": "code",
   "execution_count": null,
   "metadata": {},
   "outputs": [],
   "source": []
  }
 ],
 "metadata": {
  "kernelspec": {
   "display_name": "l1mk",
   "language": "python",
   "name": "python3"
  },
  "language_info": {
   "codemirror_mode": {
    "name": "ipython",
    "version": 3
   },
   "file_extension": ".py",
   "mimetype": "text/x-python",
   "name": "python",
   "nbconvert_exporter": "python",
   "pygments_lexer": "ipython3",
   "version": "3.10.6"
  },
  "orig_nbformat": 4,
  "vscode": {
   "interpreter": {
    "hash": "662ed68a24274dd0d0528963d4f3de55b45f605d9ff67761af98572d42886df2"
   }
  }
 },
 "nbformat": 4,
 "nbformat_minor": 2
}
