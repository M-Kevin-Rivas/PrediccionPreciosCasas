{
 "cells": [
  {
   "cell_type": "code",
   "execution_count": 1,
   "metadata": {},
   "outputs": [],
   "source": [
    "import numpy as np \n",
    "import pandas as pd\n",
    "import joblib "
   ]
  },
  {
   "cell_type": "code",
   "execution_count": 5,
   "metadata": {},
   "outputs": [
    {
     "data": {
      "text/html": [
       "<div>\n",
       "<style scoped>\n",
       "    .dataframe tbody tr th:only-of-type {\n",
       "        vertical-align: middle;\n",
       "    }\n",
       "\n",
       "    .dataframe tbody tr th {\n",
       "        vertical-align: top;\n",
       "    }\n",
       "\n",
       "    .dataframe thead th {\n",
       "        text-align: right;\n",
       "    }\n",
       "</style>\n",
       "<table border=\"1\" class=\"dataframe\">\n",
       "  <thead>\n",
       "    <tr style=\"text-align: right;\">\n",
       "      <th></th>\n",
       "      <th>estado_casa</th>\n",
       "      <th>departamento</th>\n",
       "      <th>nro_habitaciones</th>\n",
       "      <th>nro_baño</th>\n",
       "      <th>m2_terreno</th>\n",
       "      <th>nro_plantas</th>\n",
       "      <th>m2_edificados</th>\n",
       "      <th>nro_garajes</th>\n",
       "      <th>antiguedad</th>\n",
       "    </tr>\n",
       "  </thead>\n",
       "  <tbody>\n",
       "    <tr>\n",
       "      <th>0</th>\n",
       "      <td>A estrenar</td>\n",
       "      <td>Cochabamba</td>\n",
       "      <td>4.0</td>\n",
       "      <td>3</td>\n",
       "      <td>202.0</td>\n",
       "      <td>2.0</td>\n",
       "      <td>190.0</td>\n",
       "      <td>1.0</td>\n",
       "      <td>3.0</td>\n",
       "    </tr>\n",
       "  </tbody>\n",
       "</table>\n",
       "</div>"
      ],
      "text/plain": [
       "  estado_casa departamento  nro_habitaciones  nro_baño  m2_terreno  \\\n",
       "0  A estrenar   Cochabamba               4.0         3       202.0   \n",
       "\n",
       "   nro_plantas  m2_edificados  nro_garajes  antiguedad  \n",
       "0          2.0          190.0          1.0         3.0  "
      ]
     },
     "execution_count": 5,
     "metadata": {},
     "output_type": "execute_result"
    }
   ],
   "source": [
    "#Cargando el modelo guardado\n",
    "\n",
    "knn_entrenado = joblib.load('Modelos_entrenados/modelo_knn_entrenado.pkl')\n",
    "ridge_entrenado = joblib.load('Modelos_entrenados/modelo_ridge_entrenado.pkl')\n",
    "rf_entrenado = joblib.load('Modelos_entrenados/modelo_RF_entrenado.pkl')\n",
    "gb_entrenado = joblib.load('Modelos_entrenados/modelo_GB_entrenado.pkl')\n",
    "\n",
    "#Creando un dataset de prueba con una observacion especfica\n",
    "casa1 = pd.DataFrame({\n",
    "    'estado_casa':['A estrenar'],\n",
    "    \"departamento\":[\"Cochabamba\"],\n",
    "    \"nro_habitaciones\":[4.0],\n",
    "    \"nro_baño\":[3],\n",
    "    \"m2_terreno\":[202.0],\n",
    "    \"nro_plantas\":[2.0],\n",
    "    \"m2_edificados\":[190.0],\n",
    "    \"nro_garajes\":[1.0],\n",
    "    \"antiguedad\":[3.0],\n",
    "})\n",
    "casa1"
   ]
  },
  {
   "cell_type": "code",
   "execution_count": 6,
   "metadata": {},
   "outputs": [
    {
     "name": "stdout",
     "output_type": "stream",
     "text": [
      "Prediccion del modelo KNN: [128111.11111111]\n",
      "Prediccion del modelo Ridge: [102648.9125653]\n",
      "Prediccion del modelo Random Forest: [130953.60090476]\n",
      "Prediccion del modelo Gradient Boosting: [127516.44586404]\n"
     ]
    }
   ],
   "source": [
    "print(\"Prediccion del modelo KNN:\",knn_entrenado.predict(X = casa1))\n",
    "print(\"Prediccion del modelo Ridge:\",ridge_entrenado.predict(X = casa1))\n",
    "print(\"Prediccion del modelo Random Forest:\",rf_entrenado.predict(X = casa1))\n",
    "print(\"Prediccion del modelo Gradient Boosting:\",gb_entrenado.predict(X = casa1))"
   ]
  }
 ],
 "metadata": {
  "kernelspec": {
   "display_name": "base",
   "language": "python",
   "name": "python3"
  },
  "language_info": {
   "codemirror_mode": {
    "name": "ipython",
    "version": 3
   },
   "file_extension": ".py",
   "mimetype": "text/x-python",
   "name": "python",
   "nbconvert_exporter": "python",
   "pygments_lexer": "ipython3",
   "version": "3.9.13"
  },
  "orig_nbformat": 4
 },
 "nbformat": 4,
 "nbformat_minor": 2
}
