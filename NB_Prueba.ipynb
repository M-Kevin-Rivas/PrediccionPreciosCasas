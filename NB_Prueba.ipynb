{
 "cells": [
  {
   "cell_type": "code",
   "execution_count": 3,
   "metadata": {},
   "outputs": [],
   "source": [
    "import pandas as pd\n",
    "import joblib "
   ]
  },
  {
   "cell_type": "code",
   "execution_count": 10,
   "metadata": {},
   "outputs": [
    {
     "data": {
      "text/html": [
       "<div>\n",
       "<style scoped>\n",
       "    .dataframe tbody tr th:only-of-type {\n",
       "        vertical-align: middle;\n",
       "    }\n",
       "\n",
       "    .dataframe tbody tr th {\n",
       "        vertical-align: top;\n",
       "    }\n",
       "\n",
       "    .dataframe thead th {\n",
       "        text-align: right;\n",
       "    }\n",
       "</style>\n",
       "<table border=\"1\" class=\"dataframe\">\n",
       "  <thead>\n",
       "    <tr style=\"text-align: right;\">\n",
       "      <th></th>\n",
       "      <th>estado_casa</th>\n",
       "      <th>departamento</th>\n",
       "      <th>nro_habitaciones</th>\n",
       "      <th>nro_baño</th>\n",
       "      <th>m2_terreno</th>\n",
       "      <th>nro_plantas</th>\n",
       "      <th>m2_edificados</th>\n",
       "      <th>nro_garajes</th>\n",
       "      <th>antiguedad</th>\n",
       "    </tr>\n",
       "  </thead>\n",
       "  <tbody>\n",
       "    <tr>\n",
       "      <th>0</th>\n",
       "      <td>A estrenar</td>\n",
       "      <td>Santa Cruz</td>\n",
       "      <td>3.0</td>\n",
       "      <td>3</td>\n",
       "      <td>414.0</td>\n",
       "      <td>2.0</td>\n",
       "      <td>350.0</td>\n",
       "      <td>2.0</td>\n",
       "      <td>1.0</td>\n",
       "    </tr>\n",
       "  </tbody>\n",
       "</table>\n",
       "</div>"
      ],
      "text/plain": [
       "  estado_casa departamento  nro_habitaciones  nro_baño  m2_terreno  \\\n",
       "0  A estrenar   Santa Cruz               3.0         3       414.0   \n",
       "\n",
       "   nro_plantas  m2_edificados  nro_garajes  antiguedad  \n",
       "0          2.0          350.0          2.0         1.0  "
      ]
     },
     "execution_count": 10,
     "metadata": {},
     "output_type": "execute_result"
    }
   ],
   "source": [
    "#Cargando los modelos guardados\n",
    "\n",
    "gb_entrenado = joblib.load('Modelos_entrenados/modelo_GB_entrenado.pkl')\n",
    "\n",
    "#Creando un dataset de prueba con una observacion especfica\n",
    "casa1 = pd.DataFrame({\n",
    "    'estado_casa':['A estrenar'],\n",
    "    \"departamento\":[\"Santa Cruz\"],\n",
    "    \"nro_habitaciones\":[3.0],\n",
    "    \"nro_baño\":[3],\n",
    "    \"m2_terreno\":[414.0],\n",
    "    \"nro_plantas\":[2.0],\n",
    "    \"m2_edificados\":[350.0],\n",
    "    \"nro_garajes\":[2.0],\n",
    "    \"antiguedad\":[1.0],\n",
    "})\n",
    "casa1"
   ]
  },
  {
   "cell_type": "code",
   "execution_count": null,
   "metadata": {},
   "outputs": [],
   "source": [
    "print(\"Prediccion del modelo Gradient Boosting:\",gb_entrenado.predict(X = casa1))"
   ]
  }
 ],
 "metadata": {
  "kernelspec": {
   "display_name": "base",
   "language": "python",
   "name": "python3"
  },
  "language_info": {
   "codemirror_mode": {
    "name": "ipython",
    "version": 3
   },
   "file_extension": ".py",
   "mimetype": "text/x-python",
   "name": "python",
   "nbconvert_exporter": "python",
   "pygments_lexer": "ipython3",
   "version": "3.9.13"
  },
  "orig_nbformat": 4
 },
 "nbformat": 4,
 "nbformat_minor": 2
}
